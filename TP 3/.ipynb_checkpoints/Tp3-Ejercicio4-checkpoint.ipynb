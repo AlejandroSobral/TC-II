{
 "cells": [
  {
   "cell_type": "code",
   "execution_count": 3,
   "metadata": {},
   "outputs": [
    {
     "name": "stdout",
     "output_type": "stream",
     "text": [
      " F(s)/2 0.5*(S + 1)/(S**2 + S + 1)\n",
      "F(-s)/2 0.5*(S - 1)/(S**2 - S + 1)\n",
      "Raices [-0.5+0.8660254j -0.5-0.8660254j  0.5+0.8660254j  0.5-0.8660254j]\n",
      "Fracciones simples S/(2*(S**2 + S + 1)) + S/(2*(S**2 - S + 1))\n"
     ]
    }
   ],
   "source": [
    "import math as m\n",
    "from sympy import *\n",
    "import scipy.signal as signal\n",
    "from sympy.abc import S\n",
    "\n",
    "import matplotlib as mpl\n",
    "import matplotlib.pyplot as plt\n",
    "import numpy as np\n",
    "\n",
    "\n",
    "\n",
    "pi = m.pi\n",
    "\n",
    "\n",
    "\n",
    "S  = symbols('S')\n",
    "NumParFs =    [1, 0, 1, 0]\n",
    "DenParFs = [ 1,0, 1, 0, 1]\n",
    "\n",
    "Num = S**3 + S\n",
    "Den = S**4 + S**2 + 1 \n",
    "equ = Num / Den\n",
    "raices = np.roots(DenParFs)\n",
    "\n",
    "\n",
    "K, raiz, c = signal.residue(NumParFs,DenParFs)\n",
    "\n",
    "fese = (K[0] / (S-(raices[0]))) +  (K[1] / (S-(raices[1])))\n",
    "fmenosese = (K[2] / (S-(raices[2]))) +  (K[3] / (S-(raices[3])))\n",
    "print(\" F(s)/2\", simplify(fese))\n",
    "print(\"F(-s)/2\", simplify(fmenosese))\n",
    "\n",
    "\n",
    "\n",
    "print(\"Raices\", raices)\n",
    "print(\"Fracciones simples\", apart(equ))\n",
    "\n"
   ]
  },
  {
   "cell_type": "code",
   "execution_count": null,
   "metadata": {},
   "outputs": [],
   "source": []
  }
 ],
 "metadata": {
  "kernelspec": {
   "display_name": "Python 3",
   "language": "python",
   "name": "python3"
  },
  "language_info": {
   "codemirror_mode": {
    "name": "ipython",
    "version": 3
   },
   "file_extension": ".py",
   "mimetype": "text/x-python",
   "name": "python",
   "nbconvert_exporter": "python",
   "pygments_lexer": "ipython3",
   "version": "3.7.6"
  }
 },
 "nbformat": 4,
 "nbformat_minor": 4
}
