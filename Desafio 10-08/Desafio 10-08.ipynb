{
 "cells": [
  {
   "cell_type": "markdown",
   "metadata": {},
   "source": [
    "### Ejercicio clase 10-08\n",
    "### Teoría de Circuitos II - UTN.FRBA\n",
    "### Alejandro Sobral\n",
    "\n",
    "<b> 1) Sintetizar por Foster II, Cauer I y Cauer II (Topología y componentes)</b>\n",
    "\n",
    "$$\n",
    "Z(S) = \\frac{(S^2 +3)(S^2+1)}{S(S^2+2)}  \n",
    "\\\\\n",
    "$$\n",
    "    \n",
    "    "
   ]
  },
  {
   "cell_type": "markdown",
   "metadata": {},
   "source": [
    "\n",
    "<img src=\"./1.PNG\" align=\"center\" width=\"50%\" />\n",
    "<img src=\"./2.PNG\" align=\"center\" width=\"40%\" />\n",
    "<img src=\"./3.PNG\" align=\"center\" width=\"50%\" />\n",
    "<img src=\"./4.PNG\" align=\"center\" width=\"50%\" />\n",
    "<img src=\"./5.PNG\" align=\"center\" width=\"40%\" />\n",
    "<img src=\"./6.PNG\" align=\"center\" width=\"40%\" />\n",
    "\n",
    "2) Sintetice la red indicada dada su admitancia de entrada, y sabiendo que el tanque L2C2 resuena a una Wo = 1 rad/seg\n",
    "\n",
    "$$\n",
    "Y(S) = \\frac{3S(S^2 +(7/3))}{(S^2+2)(S^2+5)}  \n",
    "\\\\\n",
    "$$\n",
    "\n",
    "\n",
    "<img src=\"./Consigna.PNG\" align=\"center\" width=\"60%\" />\n",
    "<img src=\"./7.PNG\" align=\"center\" width=\"50%\" />\n",
    "<img src=\"./8.PNG\" align=\"center\" width=\"50%\" />\n",
    "<img src=\"./9.PNG\" align=\"center\" width=\"50%\" />\n",
    "<img src=\"./10.PNG\" align=\"center\" width=\"40%\" />\n"
   ]
  },
  {
   "cell_type": "code",
   "execution_count": null,
   "metadata": {},
   "outputs": [],
   "source": []
  }
 ],
 "metadata": {
  "kernelspec": {
   "display_name": "Python 3",
   "language": "python",
   "name": "python3"
  },
  "language_info": {
   "codemirror_mode": {
    "name": "ipython",
    "version": 3
   },
   "file_extension": ".py",
   "mimetype": "text/x-python",
   "name": "python",
   "nbconvert_exporter": "python",
   "pygments_lexer": "ipython3",
   "version": "3.7.6"
  }
 },
 "nbformat": 4,
 "nbformat_minor": 4
}
