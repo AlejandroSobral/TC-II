{
 "cells": [
  {
   "cell_type": "code",
   "execution_count": null,
   "metadata": {},
   "outputs": [],
   "source": []
  },
  {
   "cell_type": "code",
   "execution_count": 24,
   "metadata": {},
   "outputs": [
    {
     "data": {
      "text/latex": [
       "$\\displaystyle \\left[\\begin{matrix}S + \\frac{1}{2 S} & - \\frac{1}{2 S} & - S & 0\\\\- \\frac{1}{2 S} & \\frac{4}{3 S} & - \\frac{1}{3 S} & - \\frac{1}{2 S}\\\\- S & - \\frac{1}{3 S} & 2 S + \\frac{1}{3 S} & - S\\\\0 & - \\frac{1}{2 S} & - S & S + \\frac{1}{2 S}\\end{matrix}\\right]$"
      ],
      "text/plain": [
       "Matrix([\n",
       "[S + 1/(2*S), -1/(2*S),            -S,           0],\n",
       "[   -1/(2*S),  4/(3*S),      -1/(3*S),    -1/(2*S)],\n",
       "[         -S, -1/(3*S), 2*S + 1/(3*S),          -S],\n",
       "[          0, -1/(2*S),            -S, S + 1/(2*S)]])"
      ]
     },
     "execution_count": 24,
     "metadata": {},
     "output_type": "execute_result"
    }
   ],
   "source": [
    "from sympy import *\n",
    "import math as m\n",
    "import sys\n",
    "\n",
    "S, Vi=symbols('S , Vi')\n",
    "M=Matrix(([(S + 1/(2*S)),-1/(2*S),-S,0],\n",
    "        [-1/(2*S),( 1/(2*S) + 1/(2*S) + 1/(3*S)),-1/(3*S),-1/(2*S)],\n",
    "        [-S,-1/(3*S),1/(3*S) + 2*S,-S],\n",
    "        [0,-1/(2*S),-S,1/(2*S) + S]))\n",
    "M"
   ]
  },
  {
   "cell_type": "code",
   "execution_count": 25,
   "metadata": {},
   "outputs": [
    {
     "name": "stdout",
     "output_type": "stream",
     "text": [
      "muestro la matriz a la cual le haria el determinante\n"
     ]
    },
    {
     "data": {
      "text/latex": [
       "$\\displaystyle \\left[\\begin{matrix}S + \\frac{1}{2 S} & - \\frac{1}{2 S} & 0\\\\- S & - \\frac{1}{3 S} & - S\\\\0 & - \\frac{1}{2 S} & S + \\frac{1}{2 S}\\end{matrix}\\right]$"
      ],
      "text/plain": [
       "Matrix([\n",
       "[S + 1/(2*S), -1/(2*S),           0],\n",
       "[         -S, -1/(3*S),          -S],\n",
       "[          0, -1/(2*S), S + 1/(2*S)]])"
      ]
     },
     "execution_count": 25,
     "metadata": {},
     "output_type": "execute_result"
    }
   ],
   "source": [
    "matriz_usada=M.minor_submatrix(1,2)\n",
    "print(\"muestro la matriz a la cual le haria el determinante\")\n",
    "matriz_usada"
   ]
  },
  {
   "cell_type": "code",
   "execution_count": 26,
   "metadata": {},
   "outputs": [
    {
     "data": {
      "text/latex": [
       "$\\displaystyle \\frac{16 S^{4} + 10 S^{2} + 1}{12 S^{3}}$"
      ],
      "text/plain": [
       "(16*S**4 + 10*S**2 + 1)/(12*S**3)"
      ]
     },
     "execution_count": 26,
     "metadata": {},
     "output_type": "execute_result"
    }
   ],
   "source": [
    "Y23=M.cofactor(1,2)\n",
    "simplify(Y23)"
   ]
  },
  {
   "cell_type": "code",
   "execution_count": 27,
   "metadata": {},
   "outputs": [
    {
     "name": "stdout",
     "output_type": "stream",
     "text": [
      "Tacho la columna 1 y la fila 4\n",
      "Tache la fila 1 y la columna 4\n"
     ]
    },
    {
     "data": {
      "text/latex": [
       "$\\displaystyle \\left[\\begin{matrix}\\frac{4}{3 S} & - \\frac{1}{3 S}\\\\- \\frac{1}{3 S} & 2 S + \\frac{1}{3 S}\\end{matrix}\\right]$"
      ],
      "text/plain": [
       "Matrix([\n",
       "[ 4/(3*S),      -1/(3*S)],\n",
       "[-1/(3*S), 2*S + 1/(3*S)]])"
      ]
     },
     "execution_count": 27,
     "metadata": {},
     "output_type": "execute_result"
    }
   ],
   "source": [
    "\n",
    "Y11=M.minor_submatrix(0,3)\n",
    "print(\"Tacho la columna 1 y la fila 4\")\n",
    "Y11\n",
    "\n",
    "Y1414=Y11.minor_submatrix(2,0)\n",
    "print(\"Tache la fila 1 y la columna 4\")\n",
    "Y1414"
   ]
  },
  {
   "cell_type": "code",
   "execution_count": 28,
   "metadata": {},
   "outputs": [
    {
     "name": "stdout",
     "output_type": "stream",
     "text": [
      "Hago el det de Y1414\n"
     ]
    },
    {
     "data": {
      "text/latex": [
       "$\\displaystyle \\frac{8 S^{2} + 1}{3 S^{2}}$"
      ],
      "text/plain": [
       "(8*S**2 + 1)/(3*S**2)"
      ]
     },
     "execution_count": 28,
     "metadata": {},
     "output_type": "execute_result"
    }
   ],
   "source": [
    "print(\"Hago el det de Y1414\")\n",
    "deter_Y1414=Y1414.det()\n",
    "cancel(simplify(deter_Y1414))"
   ]
  },
  {
   "cell_type": "code",
   "execution_count": 29,
   "metadata": {},
   "outputs": [
    {
     "data": {
      "text/latex": [
       "$\\displaystyle \\left[\\begin{matrix}\\frac{2}{S} & - \\frac{1}{S} & - \\frac{1}{S}\\\\- \\frac{1}{S} & 5 S + \\frac{1}{S} & - 3 S\\\\- \\frac{1}{S} & - 3 S & 5 S + \\frac{1}{S}\\end{matrix}\\right]$"
      ],
      "text/plain": [
       "Matrix([\n",
       "[ 2/S,      -1/S,      -1/S],\n",
       "[-1/S, 5*S + 1/S,      -3*S],\n",
       "[-1/S,      -3*S, 5*S + 1/S]])"
      ]
     },
     "execution_count": 29,
     "metadata": {},
     "output_type": "execute_result"
    }
   ],
   "source": [
    "### Método mallas\n",
    "\n",
    "M2=Matrix(([ 2/(S),-1/(1*S),-1/(S)],\n",
    "        [-1/(S), 1/(S)+5*S,-(3*S)],\n",
    "        [-1/S,-(3*S),1/(S)+5*S]))\n",
    "\n",
    "M2"
   ]
  },
  {
   "cell_type": "code",
   "execution_count": 30,
   "metadata": {},
   "outputs": [
    {
     "data": {
      "text/latex": [
       "$\\displaystyle \\frac{32 S^{2} + 4}{S}$"
      ],
      "text/plain": [
       "(32*S**2 + 4)/S"
      ]
     },
     "execution_count": 30,
     "metadata": {},
     "output_type": "execute_result"
    }
   ],
   "source": [
    "deter=M2.det()\n",
    "\n",
    "cancel(simplify(deter))\n",
    "\n"
   ]
  },
  {
   "cell_type": "code",
   "execution_count": 31,
   "metadata": {},
   "outputs": [
    {
     "data": {
      "text/latex": [
       "$\\displaystyle \\left[\\begin{matrix}Vi & - \\frac{1}{S} & - \\frac{1}{S}\\\\0 & 5 S + \\frac{1}{S} & - 3 S\\\\0 & - 3 S & 5 S + \\frac{1}{S}\\end{matrix}\\right]$"
      ],
      "text/plain": [
       "Matrix([\n",
       "[Vi,      -1/S,      -1/S],\n",
       "[ 0, 5*S + 1/S,      -3*S],\n",
       "[ 0,      -3*S, 5*S + 1/S]])"
      ]
     },
     "execution_count": 31,
     "metadata": {},
     "output_type": "execute_result"
    }
   ],
   "source": [
    "\n",
    "M3=Matrix(([Vi,-1/(1*S),-1/(S)],\n",
    "        [0, 1/(S)+5*S,-(3*S)],\n",
    "        [0,-(3*S),1/(S)+5*S]))\n",
    "\n",
    "M3\n",
    "\n"
   ]
  },
  {
   "cell_type": "code",
   "execution_count": 32,
   "metadata": {},
   "outputs": [
    {
     "data": {
      "text/latex": [
       "$\\displaystyle \\frac{16 S^{4} Vi + 10 S^{2} Vi + Vi}{S^{2}}$"
      ],
      "text/plain": [
       "(16*S**4*Vi + 10*S**2*Vi + Vi)/S**2"
      ]
     },
     "execution_count": 32,
     "metadata": {},
     "output_type": "execute_result"
    }
   ],
   "source": [
    "deter3=M3.det()\n",
    "\n",
    "cancel(simplify(deter3))"
   ]
  }
 ],
 "metadata": {
  "kernelspec": {
   "display_name": "Python 3",
   "language": "python",
   "name": "python3"
  },
  "language_info": {
   "codemirror_mode": {
    "name": "ipython",
    "version": 3
   },
   "file_extension": ".py",
   "mimetype": "text/x-python",
   "name": "python",
   "nbconvert_exporter": "python",
   "pygments_lexer": "ipython3",
   "version": "3.7.6"
  }
 },
 "nbformat": 4,
 "nbformat_minor": 4
}
