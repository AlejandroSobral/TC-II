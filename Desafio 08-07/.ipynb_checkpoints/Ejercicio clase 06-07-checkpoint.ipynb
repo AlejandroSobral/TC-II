{
 "cells": [
  {
   "cell_type": "markdown",
   "metadata": {},
   "source": [
    "### Teoría de Circuitos 2 - UTN FRBA - Alejandro Sobral.\n",
    "### Ejercicio clase 06-07\n",
    "\n",
    "<img src=\"./1.png\" align=\"center\" width=\"70%\" />\n",
    "\n",
    "<img src=\"./Uno.PNG\" align=\"center\" width=\"100%\" />\n",
    "<img src=\"./Dos.PNG\" align=\"center\" width=\"70%\" />\n",
    "<img src=\"./Tres.PNG\" align=\"center\" width=\"70%\" />\n",
    "\n",
    "### Ejercicio 2\n",
    "\n",
    "b) Sabiendo que el cuadripolo “A” está constituido de la siguiente forma, determine su función transferencia y la del circuito completo (V2/V1).\n",
    "\n",
    "\n",
    "\n",
    "<img src=\"./2consigna.PNG\" align=\"center\" width=\"70%\" />\n",
    "\n",
    "Puedo considerar ambos cuadripolos como una conexión paralelo de dos cuadripolos independientes. Procedo a hallar las matrices Y de cada uno por separado.\n",
    "\n",
    "<img src=\"./2.0.png\" align=\"center\" width=\"70%\" />\n",
    "<img src=\"./2.1.png\" align=\"center\" width=\"70%\" />\n",
    "<img src=\"./2.2.png\" align=\"center\" width=\"70%\" />\n",
    "<img src=\"./2.2b.png\" align=\"center\" width=\"70%\" />\n",
    "<img src=\"./2.3.png\" align=\"center\" width=\"70%\" />\n",
    "<img src=\"./2.4.png\" align=\"center\" width=\"70%\" />\n",
    "\n",
    "<b> Las matrices resultan: </b>\n",
    "\n",
    "<img src=\"./2.5.PNG\" align=\"center\" width=\"70%\" />\n",
    "\n",
    "<b>Considerando YT como la matriz resulante de sumar YA  + YB </b>\n",
    "\n",
    "<img src=\"./2.6.PNG\" align=\"center\" width=\"70%\" />\n",
    "\n",
    "<b> Si retomamos la expresión de la transferencia resultante, considerando los elementos internos de A </b>\n",
    "\n",
    "\n",
    "<img src=\"./2.7.PNG\" align=\"center\" width=\"70%\" />\n",
    "\n",
    "\n",
    "\n",
    "\n",
    "\n",
    "\n"
   ]
  },
  {
   "cell_type": "code",
   "execution_count": null,
   "metadata": {},
   "outputs": [],
   "source": []
  }
 ],
 "metadata": {
  "kernelspec": {
   "display_name": "Python 3",
   "language": "python",
   "name": "python3"
  },
  "language_info": {
   "codemirror_mode": {
    "name": "ipython",
    "version": 3
   },
   "file_extension": ".py",
   "mimetype": "text/x-python",
   "name": "python",
   "nbconvert_exporter": "python",
   "pygments_lexer": "ipython3",
   "version": "3.7.6"
  }
 },
 "nbformat": 4,
 "nbformat_minor": 4
}
