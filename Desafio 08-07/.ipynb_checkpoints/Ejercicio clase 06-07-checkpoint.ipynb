{
 "cells": [
  {
   "cell_type": "markdown",
   "metadata": {},
   "source": [
    "### Teoría de Circuitos 2 - UTN FRBA - Alejandro Sobral.\n",
    "### Ejercicio clase 06-07\n",
    "\n",
    "<img src=\"./1.png\" align=\"center\" width=\"70%\" />\n",
    "\n",
    "<img src=\"./Uno.PNG\" align=\"center\" width=\"100%\" />\n",
    "<img src=\"./Dos.PNG\" align=\"center\" width=\"70%\" />\n",
    "<img src=\"./Tres.PNG\" align=\"center\" width=\"70%\" />\n",
    "\n",
    "### Ejercicio 2\n",
    "\n",
    "b) Sabiendo que el cuadripolo “A” está constituido de la siguiente forma, determine su función transferencia y la del circuito completo (V2/V1).\n",
    "\n",
    "\n",
    "\n",
    "<img src=\"./2consigna.PNG\" align=\"center\" width=\"70%\" />\n",
    "\n",
    "Puedo considerar ambos cuadripolos como una conexión paralelo de dos cuadripolos independientes. Procedo a hallar las matrices Y de cada uno por separado.\n",
    "\n",
    "<img src=\"./2.0.PNG\" align=\"center\" width=\"70%\" />\n",
    "<img src=\"./2.1.PNG\" align=\"center\" width=\"70%\" />\n",
    "<img src=\"./2.2.PNG\" align=\"center\" width=\"70%\" />\n",
    "<img src=\"./2.2b.PNG\" align=\"center\" width=\"70%\" />\n",
    "<img src=\"./2.3.PNG\" align=\"center\" width=\"70%\" />\n",
    "<img src=\"./2.4.PNG\" align=\"center\" width=\"70%\" />\n",
    "\n",
    "\n",
    "Resta entonces encontrar la suma de ambas matrices:\n",
    "\n",
    "\n",
    "\n",
    "\n"
   ]
  },
  {
   "cell_type": "code",
   "execution_count": null,
   "metadata": {},
   "outputs": [],
   "source": []
  }
 ],
 "metadata": {
  "kernelspec": {
   "display_name": "Python 3",
   "language": "python",
   "name": "python3"
  },
  "language_info": {
   "codemirror_mode": {
    "name": "ipython",
    "version": 3
   },
   "file_extension": ".py",
   "mimetype": "text/x-python",
   "name": "python",
   "nbconvert_exporter": "python",
   "pygments_lexer": "ipython3",
   "version": "3.7.6"
  }
 },
 "nbformat": 4,
 "nbformat_minor": 4
}
