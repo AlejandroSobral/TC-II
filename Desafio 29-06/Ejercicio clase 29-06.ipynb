{
 "cells": [
  {
   "cell_type": "markdown",
   "metadata": {},
   "source": [
    "### TC 2 - UTN.FRBA  - Alejandro Sobral\n",
    "### Ejercicio clase 29-06 - Lunes noche"
   ]
  },
  {
   "cell_type": "markdown",
   "metadata": {},
   "source": [
    "<img src=\"./1.PNG\" align=\"center\" width=\"70%\" />\n",
    "<img src=\"./2.PNG\" align=\"center\" width=\"70%\" />\n",
    "<img src=\"./3.PNG\" align=\"center\" width=\"70%\" />\n",
    "<img src=\"./4.PNG\" align=\"center\" width=\"70%\" />\n",
    "<img src=\"./5.PNG\" align=\"center\" width=\"70%\" />\n",
    "<img src=\"./6.PNG\" align=\"center\" width=\"70%\" />\n",
    "\n",
    "Compruebo que es un girador, ya que la matriz T es similar a la del girador obtenida anteriormente.\n",
    "\n",
    "<img src=\"./7.PNG\" align=\"center\" width=\"70%\" />\n",
    "\n",
    "\n",
    "Esto lo interpreto como una posible inductancia a gusto, conectada a masa y no flotante.\n",
    "Aunque, me genera dudas, pero no encontré otra forma de pensarlo. Tampoco lo pude conectar con lo que dijo Andrés en clase de \"Esto nos permite pensar en un teoría de circuitos sin inductores\"\n"
   ]
  },
  {
   "cell_type": "code",
   "execution_count": null,
   "metadata": {},
   "outputs": [],
   "source": []
  }
 ],
 "metadata": {
  "kernelspec": {
   "display_name": "Python 3",
   "language": "python",
   "name": "python3"
  },
  "language_info": {
   "codemirror_mode": {
    "name": "ipython",
    "version": 3
   },
   "file_extension": ".py",
   "mimetype": "text/x-python",
   "name": "python",
   "nbconvert_exporter": "python",
   "pygments_lexer": "ipython3",
   "version": "3.7.6"
  }
 },
 "nbformat": 4,
 "nbformat_minor": 4
}
