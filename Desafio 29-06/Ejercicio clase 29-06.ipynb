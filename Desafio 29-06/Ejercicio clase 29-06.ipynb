{
 "cells": [
  {
   "cell_type": "markdown",
   "metadata": {},
   "source": [
    "### TC 2 - UTN.FRBA  - Alejandro Sobral\n",
    "### Ejercicio clase 29-06 - Lunes noche"
   ]
  },
  {
   "cell_type": "markdown",
   "metadata": {},
   "source": [
    "### 1) Me dispongo a hallar la matriz de un girador:\n",
    "\n",
    "<img src=\"./Uno.PNG\" align=\"center\" width=\"90%\" />\n",
    "\n",
    "\n",
    "### 2) Compruebo que el circuito corresponde a un girador\n",
    "\n",
    "<img src=\"./DTaY1.PNG\" align=\"center\" width=\"70%\" />\n",
    "<img src=\"./DTaY2.PNG\" align=\"center\" width=\"70%\" />\n",
    "<img src=\"./DTaY3.PNG\" align=\"center\" width=\"50%\" />\n",
    "\n",
    "\n",
    "<b>Obtengo matriz de conversión de Y a T</b>\n",
    "\n",
    "<img src=\"./MatrizResultante.PNG\" align=\"center\" width=\"50%\" />\n",
    "\n",
    "\n",
    "<b>Analizo el circuito </b>\n",
    "\n",
    "<img src=\"./Cir1v2.PNG\" align=\"center\" width=\"70%\" />\n",
    "<img src=\"./Cir2v2.PNG\" align=\"center\" width=\"70%\" />\n",
    "\n",
    "\n",
    "<b>Aplico la matriz de conversiones encontrada anteriormente: </b>\n",
    "\n",
    "<img src=\"./Cir4.PNG\" align=\"center\" width=\"100%\" />\n",
    "\n",
    "<b>Coincide (en formato) con la matriz obtenida para el circuito girador.</b>\n",
    "\n",
    "\n",
    "<b>Por otro lado, podemos realizar el siguiente análisis:</b>\n",
    "\n",
    "<img src=\"./PruebaGirador.PNG\" align=\"center\" width=\"80%\" />\n",
    "\n",
    "\n",
    "<b>Obtenemos la misma expresión del girador.</b>\n",
    "\n",
    "\n",
    "\n",
    "\n",
    "\n",
    "\n",
    "### 3) Cascada de giradores\n",
    "\n",
    "<img src=\"./Tres.PNG\" align=\"center\" width=\"90%\" />\n",
    "\n",
    "<b>Obtengo una ganancia unitaria de corriente y tension solo en caso R1 = R2. Una tran-simpedancia y trans-admitancia nulas para todo caso.</b>\n"
   ]
  },
  {
   "cell_type": "markdown",
   "metadata": {},
   "source": []
  },
  {
   "cell_type": "code",
   "execution_count": null,
   "metadata": {},
   "outputs": [],
   "source": []
  }
 ],
 "metadata": {
  "kernelspec": {
   "display_name": "Python 3",
   "language": "python",
   "name": "python3"
  },
  "language_info": {
   "codemirror_mode": {
    "name": "ipython",
    "version": 3
   },
   "file_extension": ".py",
   "mimetype": "text/x-python",
   "name": "python",
   "nbconvert_exporter": "python",
   "pygments_lexer": "ipython3",
   "version": "3.7.6"
  }
 },
 "nbformat": 4,
 "nbformat_minor": 4
}
