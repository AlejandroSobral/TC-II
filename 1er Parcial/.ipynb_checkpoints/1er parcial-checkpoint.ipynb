{
 "cells": [
  {
   "cell_type": "markdown",
   "metadata": {},
   "source": [
    "### Ejercicio tipo parcial - TC2\n",
    "\n",
    "<img src=\"./Consigna1.PNG\" align=\"center\" width=\"70%\" />\n",
    "<img src=\"./Consigna2.PNG\" align=\"center\" width=\"70%\" />"
   ]
  },
  {
   "cell_type": "markdown",
   "metadata": {},
   "source": [
    "####  Ejercicio 1)\n",
    "\n"
   ]
  },
  {
   "cell_type": "markdown",
   "metadata": {},
   "source": [
    "<img src=\"./1.PNG\" align=\"center\" width=\"50%\" />\n",
    "<img src=\"./2.PNG\" align=\"center\" width=\"50%\" />\n",
    "<img src=\"./3.PNG\" align=\"center\" width=\"60%\" />\n",
    "<img src=\"./4.PNG\" align=\"center\" width=\"50%\" />\n",
    "\n",
    "Asumo que el factor lineal  4.18 no se puede implementar de manera pasiva, y que en la transferencia implementada con componentes, me \"faltarán\" aproximadamente 12,42dB. Por tanto, para W0 debería tener -1dB - 12.42dB = -13.4dB\n",
    "\n"
   ]
  },
  {
   "cell_type": "code",
   "execution_count": 83,
   "metadata": {},
   "outputs": [
    {
     "name": "stdout",
     "output_type": "stream",
     "text": [
      "[0.98261336]\n",
      "[1.         1.09773433 1.10251033]\n",
      "[1.30629505 0.         0.        ]\n",
      "[1.         1.26568768 3.46568715 1.26568768 1.        ]\n"
     ]
    },
    {
     "data": {
      "text/plain": [
       "(1,\n",
       " array([<matplotlib.axes._subplots.AxesSubplot object at 0x00000221FDD7B488>,\n",
       "        <matplotlib.axes._subplots.AxesSubplot object at 0x00000221FDD20A08>],\n",
       "       dtype=object))"
      ]
     },
     "execution_count": 83,
     "metadata": {},
     "output_type": "execute_result"
    },
    {
     "data": {
      "image/png": "[encoded data removed]",
      "text/plain": [
       "<Figure size 432x288 with 2 Axes>"
      ]
     },
     "metadata": {
      "needs_background": "light"
     },
     "output_type": "display_data"
    }
   ],
   "source": [
    "import numpy as np\n",
    "import scipy.signal as sig\n",
    "from splane import analyze_sys\n",
    "import matplotlib.pyplot as plt\n",
    "from scipy.signal import TransferFunction\n",
    "from splane import pzmap, grpDelay, bodePlot, convert2SOS\n",
    "\n",
    "nn =2\n",
    "alfa_max = 1\n",
    "z,p,k = sig.cheb1ap(nn, alfa_max)\n",
    "num, den = sig.zpk2tf(z,p,k)\n",
    "num_bp, den_bp = sig.lp2bp(num, den, bw = 1.153)\n",
    "print(num)\n",
    "print(den)\n",
    "\n",
    "print(num_bp)\n",
    "print(den_bp)\n",
    "filtro_bp = TransferFunction(num_bp, den_bp)\n",
    "\n",
    "bodePlot(filtro_bp)\n"
   ]
  },
  {
   "cell_type": "markdown",
   "metadata": {},
   "source": [
    "Una vez encontradas las transferencias a implementar, planteo una celda RLC que replicaré para formar la T(S)\n",
    "<img src=\"./CeldaRLC.PNG\" align=\"center\" width=\"40%\" />\n",
    "\n",
    "Siendo la transferencia de la misma:\n",
    "\n",
    "$$\n",
    "TCeldaRLC(S) = \\frac{K(S(L/R))}{S^2(LC) + S((L/R))+1} \n",
    "\\\\\n",
    "$$\n",
    "\n",
    "<img src=\"./CircuitoCompleto.PNG\" align=\"center\" width=\"40%\" />\n",
    "$$\n",
    "T(S) = T1(S)*T2(S) = \\frac{K1(S(L1/R1))}{S^2(L1C1) + S((L1/R1))+1} * \\frac{K2(S(L2/R2))}{S^2(L2C2) + S((L2/R2))+1} \n",
    "\\\\\n",
    "$$\n",
    "\n",
    "Para los valores, considero las transferencias \n",
    "$$\n",
    "T1(S) = \\frac{3.43(S*0.33)}{S^2(0.358) + S((0.33))+1}\n",
    "\\\\\n",
    "$$\n",
    "\n",
    "$$\n",
    "T2(S) = \\frac{1.22(S*0.9322)}{S^2(2.8) + S((0.9322))+1}\n",
    "\\\\\n",
    "$$\n",
    "\n",
    "<b>Calculo componentes T1</b>\n",
    "\n",
    "Fijo C1 = 1 y obtengo L1 = 0.358Hy y R = 1.0848 Ω\n",
    "\n",
    "Considerando una norma de Z de 1KΩ y desnormalizando para W0 = 20,78k 1/s obtengo\n",
    "\n",
    "C1 = 48.12nF, L1 = 17.22mHy, R1=1.08kΩ\n",
    "\n",
    "Por lo que recalculo los valores considerando C1 = 47nF, que equivalen a C1 = 0.976 normalizados.\n",
    "\n",
    "Recalculo todo y obtengo:\n",
    "<b> C1= 47nF, R1= 1,1K, L1=17,61mHy </b>\n",
    "\n",
    "<b>Calculo componentes T2</b>\n",
    "\n",
    "IDEM procedimiento\n",
    "<b>R2=3kΩ, C2=47nF, L2 = 137,6mHy</b> \n",
    "\n",
    "\n",
    "Simulo y obtengo la transferencia:\n",
    "\n",
    "<img src=\"./Tf1-L.PNG\" align=\"center\" width=\"50%\" />\n",
    "\n",
    "Paso a activar el circuito. Para este fin utilizaré GIC's con la siguiente estructura:\n",
    "\n",
    "\n",
    "<img src=\"./GIC.PNG\" align=\"center\" width=\"30%\" />\n",
    "\n",
    "Considerando Zin(S) del GIC como:\n",
    "\n",
    "$$\n",
    "Zin(S) = \\frac{Z5Z3Z1}{Z2Z4}\n",
    "\\\\\n",
    "$$\n",
    "\n",
    "Sea Z4 un capacitor, se obtiene una Zin(S) = S*Leq\n",
    "\n",
    "Siendo $$ Leq= \\frac{CR5R3R1}{R2}\n",
    "\\\\\n",
    "$$\n",
    "\n",
    "Obtengo entonces para L1 = 17.61mHy los siguientes valores normalizados de resistencia:\n",
    "<b>\n",
    "R1 = R3 = 100K \\\n",
    "C1 = 1pF \\\n",
    "R2 = 3.9K \\\n",
    "R5 = 6.8K \\\n",
    " \n",
    "\n",
    "Obteniendo una Leq1 = 17.43mHy\n",
    "    </b>   \n",
    "\n",
    "IDEM para L2, siendo L2 = 137.6mHy obtengo: \\\n",
    "<b>\n",
    "R1 = R3 = 10K \\\n",
    "C1 = 1nF \\\n",
    "R2 = 5.6K \\\n",
    "R5 = 7.5K \\\n",
    "Obteniendo una Leq2 = 133.92mHy\n",
    "</b> \n",
    "\n",
    "\n",
    "Simulo y obtengo:\n",
    "\n",
    "<img src=\"./CircuitoCompletoGIC.PNG\" align=\"center\" width=\"70%\" />\n",
    "<img src=\"./Wo.PNG\" align=\"center\" width=\"70%\" />\n",
    "<img src=\"./Wo-cursores.PNG\" align=\"center\" width=\"70%\" />\n",
    "\n",
    "Considerando el valor inicial en W0 de -13.31dB, notamos entonces que para W=2kHz (f=636Hz), el módulo de la T es -24,78dB menor. Y para W=80Khz (f=12,7Khz), el módulo de la T es -18,41dB menor."
   ]
  },
  {
   "cell_type": "markdown",
   "metadata": {},
   "source": [
    "<img src=\"./Ej2-1.png\" align=\"center\" width=\"45%\" />\n",
    "<img src=\"./Ej2-2.png\" align=\"center\" width=\"45%\" />\n",
    "<img src=\"./Ej2-3.PNG\" align=\"center\" width=\"50%\" />\n",
    "<img src=\"./Ej2-4.png\" align=\"center\" width=\"50%\" />\n",
    "\n",
    "El parámetro A corresponde a la transferencia inversa de tensión, por lo que la transferencia de tensión es 1/A\n",
    "$$\n",
    "\\frac{V2}{V1}(S) = \\frac{-KY22A+Y22B}{-KY21A+Y21B}\n",
    "\\\\\n",
    "$$\n",
    "\n",
    "A continuación se comprueba con código Python"
   ]
  },
  {
   "cell_type": "code",
   "execution_count": 84,
   "metadata": {},
   "outputs": [
    {
     "data": {
      "text/latex": [
       "$\\displaystyle \\left[\\begin{matrix}- \\frac{Y22A}{Y21A} & - \\frac{1}{Y21A}\\\\\\frac{- Y11A Y22A + Y12A Y21A}{Y21A} & - \\frac{Y11A}{Y21A}\\end{matrix}\\right]$"
      ],
      "text/plain": [
       "Matrix([\n",
       "[                   -Y22A/Y21A,    -1/Y21A],\n",
       "[(-Y11A*Y22A + Y12A*Y21A)/Y21A, -Y11A/Y21A]])"
      ]
     },
     "execution_count": 84,
     "metadata": {},
     "output_type": "execute_result"
    }
   ],
   "source": [
    "from sympy import *\n",
    "import math as m\n",
    "import sys\n",
    "Y11A, Y12A, Y21A, Y22A, K =symbols('Y11A Y12A Y21A Y22A K')\n",
    "TA=Matrix(([-(Y22A/Y21A),-1/Y21A],\n",
    "        [(Y21A*Y12A-Y22A*Y11A)/Y21A, -Y11A/Y21A]))\n",
    "TA"
   ]
  },
  {
   "cell_type": "code",
   "execution_count": 85,
   "metadata": {},
   "outputs": [
    {
     "data": {
      "text/latex": [
       "$\\displaystyle \\left[\\begin{matrix}1 & 0\\\\0 & - \\frac{1}{K}\\end{matrix}\\right]$"
      ],
      "text/plain": [
       "Matrix([\n",
       "[1,    0],\n",
       "[0, -1/K]])"
      ]
     },
     "execution_count": 85,
     "metadata": {},
     "output_type": "execute_result"
    }
   ],
   "source": [
    "TC = Matrix(([1,0],\n",
    "        [(0), -1/K]))\n",
    "\n",
    "TC"
   ]
  },
  {
   "cell_type": "code",
   "execution_count": 86,
   "metadata": {},
   "outputs": [
    {
     "data": {
      "text/latex": [
       "$\\displaystyle \\left[\\begin{matrix}- \\frac{Y22A}{Y21A} & \\frac{1}{K Y21A}\\\\\\frac{- Y11A Y22A + Y12A Y21A}{Y21A} & \\frac{Y11A}{K Y21A}\\end{matrix}\\right]$"
      ],
      "text/plain": [
       "Matrix([\n",
       "[                   -Y22A/Y21A,    1/(K*Y21A)],\n",
       "[(-Y11A*Y22A + Y12A*Y21A)/Y21A, Y11A/(K*Y21A)]])"
      ]
     },
     "execution_count": 86,
     "metadata": {},
     "output_type": "execute_result"
    }
   ],
   "source": [
    "TAC = TA * TC\n",
    "TAC\n",
    "\n",
    "\n"
   ]
  },
  {
   "cell_type": "code",
   "execution_count": 87,
   "metadata": {},
   "outputs": [
    {
     "data": {
      "text/latex": [
       "$\\displaystyle - \\frac{Y12A}{K Y21A}$"
      ],
      "text/plain": [
       "-Y12A/(K*Y21A)"
      ]
     },
     "execution_count": 87,
     "metadata": {},
     "output_type": "execute_result"
    }
   ],
   "source": [
    "deter_TAC=TAC.det()\n",
    "deter_TAC_cancel= cancel(deter_TAC)\n",
    "deter_TAC_cancel"
   ]
  },
  {
   "cell_type": "code",
   "execution_count": 88,
   "metadata": {},
   "outputs": [
    {
     "data": {
      "text/latex": [
       "$\\displaystyle \\left[\\begin{matrix}Y11A & Y12A\\\\- K Y21A & - K Y22A\\end{matrix}\\right]$"
      ],
      "text/plain": [
       "Matrix([\n",
       "[   Y11A,    Y12A],\n",
       "[-K*Y21A, -K*Y22A]])"
      ]
     },
     "execution_count": 88,
     "metadata": {},
     "output_type": "execute_result"
    }
   ],
   "source": [
    "YAC = Matrix(([TAC[3]/TAC[1],-deter_TAC_cancel/TAC[1]],\n",
    "        [-1/TAC[1], TAC[0]/TAC[1]]))\n",
    "YAC"
   ]
  },
  {
   "cell_type": "code",
   "execution_count": 89,
   "metadata": {},
   "outputs": [
    {
     "data": {
      "text/latex": [
       "$\\displaystyle \\left[\\begin{matrix}Y11B & Y12B\\\\Y21B & Y22B\\end{matrix}\\right]$"
      ],
      "text/plain": [
       "Matrix([\n",
       "[Y11B, Y12B],\n",
       "[Y21B, Y22B]])"
      ]
     },
     "execution_count": 89,
     "metadata": {},
     "output_type": "execute_result"
    }
   ],
   "source": [
    "Y11B, Y12B, Y21B, Y22B=symbols('Y11B Y12B Y21B Y22B')\n",
    "YB=Matrix(([Y11B,Y12B],\n",
    "        [Y21B, Y22B]))\n",
    "YB"
   ]
  },
  {
   "cell_type": "code",
   "execution_count": 90,
   "metadata": {},
   "outputs": [
    {
     "data": {
      "text/latex": [
       "$\\displaystyle \\left[\\begin{matrix}Y11A + Y11B & Y12A + Y12B\\\\- K Y21A + Y21B & - K Y22A + Y22B\\end{matrix}\\right]$"
      ],
      "text/plain": [
       "Matrix([\n",
       "[   Y11A + Y11B,    Y12A + Y12B],\n",
       "[-K*Y21A + Y21B, -K*Y22A + Y22B]])"
      ]
     },
     "execution_count": 90,
     "metadata": {},
     "output_type": "execute_result"
    }
   ],
   "source": [
    "YT = YB + YAC\n",
    "YT"
   ]
  },
  {
   "cell_type": "code",
   "execution_count": 91,
   "metadata": {},
   "outputs": [
    {
     "data": {
      "text/latex": [
       "$\\displaystyle - \\left(Y11A + Y11B\\right) \\left(K Y22A - Y22B\\right) + \\left(Y12A + Y12B\\right) \\left(K Y21A - Y21B\\right)$"
      ],
      "text/plain": [
       "-(Y11A + Y11B)*(K*Y22A - Y22B) + (Y12A + Y12B)*(K*Y21A - Y21B)"
      ]
     },
     "execution_count": 91,
     "metadata": {},
     "output_type": "execute_result"
    }
   ],
   "source": [
    "deter_YT = YT.det()\n",
    "deter_YT_cancel = (simplify((deter_YT)))\n",
    "deter_YT_cancel"
   ]
  },
  {
   "cell_type": "code",
   "execution_count": 92,
   "metadata": {},
   "outputs": [
    {
     "data": {
      "text/latex": [
       "$\\displaystyle \\frac{- K Y21A + Y21B}{- K Y22A + Y22B}$"
      ],
      "text/plain": [
       "(-K*Y21A + Y21B)/(-K*Y22A + Y22B)"
      ]
     },
     "execution_count": 92,
     "metadata": {},
     "output_type": "execute_result"
    }
   ],
   "source": [
    "TT = (([YT[3]/YT[2],YT[1]],\n",
    "        [deter_YT_cancel/YT[2], YT[0]/YT[2]]))\n",
    "YT[2]/YT[3]"
   ]
  },
  {
   "cell_type": "code",
   "execution_count": null,
   "metadata": {},
   "outputs": [],
   "source": []
  }
 ],
 "metadata": {
  "kernelspec": {
   "display_name": "Python 3",
   "language": "python",
   "name": "python3"
  },
  "language_info": {
   "codemirror_mode": {
    "name": "ipython",
    "version": 3
   },
   "file_extension": ".py",
   "mimetype": "text/x-python",
   "name": "python",
   "nbconvert_exporter": "python",
   "pygments_lexer": "ipython3",
   "version": "3.7.6"
  }
 },
 "nbformat": 4,
 "nbformat_minor": 4
}
