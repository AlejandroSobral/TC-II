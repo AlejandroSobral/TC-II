{
 "cells": [
  {
   "cell_type": "markdown",
   "metadata": {},
   "source": [
    "### Ejercicio tipo parcial - TC2\n",
    "\n",
    "<img src=\"./Consigna1.PNG\" align=\"center\" width=\"70%\" />\n",
    "<img src=\"./Consigna2.PNG\" align=\"center\" width=\"70%\" />"
   ]
  },
  {
   "cell_type": "markdown",
   "metadata": {},
   "source": [
    "####  Ejercicio 1)\n",
    "\n"
   ]
  },
  {
   "cell_type": "markdown",
   "metadata": {},
   "source": [
    "<img src=\"./1.PNG\" align=\"center\" width=\"50%\" />\n",
    "<img src=\"./2.PNG\" align=\"center\" width=\"50%\" />\n",
    "<img src=\"./3.PNG\" align=\"center\" width=\"50%\" />\n",
    "<img src=\"./4.PNG\" align=\"center\" width=\"50%\" />\n",
    "<img src=\"./5.PNG\" align=\"center\" width=\"50%\" />\n",
    "<img src=\"./6.PNG\" align=\"center\" width=\"50%\" />"
   ]
  },
  {
   "cell_type": "code",
   "execution_count": null,
   "metadata": {},
   "outputs": [],
   "source": []
  }
 ],
 "metadata": {
  "kernelspec": {
   "display_name": "Python 3",
   "language": "python",
   "name": "python3"
  },
  "language_info": {
   "codemirror_mode": {
    "name": "ipython",
    "version": 3
   },
   "file_extension": ".py",
   "mimetype": "text/x-python",
   "name": "python",
   "nbconvert_exporter": "python",
   "pygments_lexer": "ipython3",
   "version": "3.7.6"
  }
 },
 "nbformat": 4,
 "nbformat_minor": 4
}
