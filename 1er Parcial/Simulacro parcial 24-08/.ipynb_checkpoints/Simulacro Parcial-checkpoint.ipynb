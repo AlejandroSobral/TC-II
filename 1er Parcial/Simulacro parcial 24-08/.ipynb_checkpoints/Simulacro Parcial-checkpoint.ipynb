{
 "cells": [
  {
   "cell_type": "markdown",
   "metadata": {},
   "source": [
    "### TC2 - Simulacro parcial 24/08 \n",
    "\n",
    "<img src=\"./Consigna.PNG\" align=\"center\" width=\"70%\" />\n",
    "<img src=\"./1.PNG\" align=\"center\" width=\"60%\" />\n",
    "<img src=\"./2.PNG\" align=\"center\" width=\"60%\" />\n",
    "\n",
    "### Compruebo el funcionamiento en TINA:\n",
    "\n",
    "<img src=\"./tina1.PNG\" align=\"center\" width=\"90%\" />\n",
    "\n",
    "Para explicar el funcionamiento del circuito pasa-todo, puede analizarse el módulo de la transferencia como la productoria de la distancia de polos y ceros. De esta forma, el producto es constante. Es fácil de ver que sucede en el punto (1). A medida que aumenta W, esta característica se mantiene, por ejemplo, en (2).\n",
    "\n",
    "<img src=\"./productoria.PNG\" align=\"center\" width=\"25%\" />\n",
    "<img src=\"./pasatodo.PNG\" align=\"center\" width=\"40%\" />"
   ]
  },
  {
   "cell_type": "markdown",
   "metadata": {},
   "source": []
  }
 ],
 "metadata": {
  "kernelspec": {
   "display_name": "Python 3",
   "language": "python",
   "name": "python3"
  },
  "language_info": {
   "codemirror_mode": {
    "name": "ipython",
    "version": 3
   },
   "file_extension": ".py",
   "mimetype": "text/x-python",
   "name": "python",
   "nbconvert_exporter": "python",
   "pygments_lexer": "ipython3",
   "version": "3.7.6"
  }
 },
 "nbformat": 4,
 "nbformat_minor": 4
}
