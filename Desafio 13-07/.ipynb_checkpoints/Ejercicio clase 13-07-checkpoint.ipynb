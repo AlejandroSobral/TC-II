{
 "cells": [
  {
   "cell_type": "markdown",
   "metadata": {},
   "source": [
    "### UTN-FRBA - Teoría de Circuitos 2 - Alejandro Sobral\n",
    "### Ejercicio clase 13-07\n",
    "\n",
    "<img src=\"./1v2.PNG\" align=\"center\" width=\"100%\" />\n",
    "<img src=\"./2v2.PNG\" align=\"center\" width=\"100%\" />\n",
    "<img src=\"./3.png\" align=\"center\" width=\"100%\" />"
   ]
  },
  {
   "cell_type": "code",
   "execution_count": 48,
   "metadata": {},
   "outputs": [
    {
     "data": {
      "text/latex": [
       "$\\displaystyle \\left[\\begin{matrix}G + Ya & 0 & - Ya & - G\\\\0 & G + Yb & - G & - Yb\\\\- Ya & - G & 2 G + Ya & - G\\\\- G & - Yb & - G & 2 G + Yb\\end{matrix}\\right]$"
      ],
      "text/plain": [
       "Matrix([\n",
       "[G + Ya,      0,      -Ya,       -G],\n",
       "[     0, G + Yb,       -G,      -Yb],\n",
       "[   -Ya,     -G, 2*G + Ya,       -G],\n",
       "[    -G,    -Yb,       -G, 2*G + Yb]])"
      ]
     },
     "execution_count": 48,
     "metadata": {},
     "output_type": "execute_result"
    }
   ],
   "source": [
    "\n",
    "from sympy import *\n",
    "import math as m\n",
    "import sys\n",
    "\n",
    "Ya, Yb, G=symbols('Ya Yb G')\n",
    "M=Matrix(([Ya+G,0,-Ya,-G],\n",
    "        [0,Yb+G,-G,-Yb],\n",
    "        [-Ya,-G,Ya+2*G,-G],\n",
    "        [-G,-Yb,-G,Yb+2*G]))\n",
    "M"
   ]
  },
  {
   "cell_type": "code",
   "execution_count": 49,
   "metadata": {},
   "outputs": [
    {
     "name": "stdout",
     "output_type": "stream",
     "text": [
      "muestro la matriz a la cual le haria el determinante\n"
     ]
    },
    {
     "data": {
      "text/latex": [
       "$\\displaystyle \\left[\\begin{matrix}G + Ya & 0 & - G\\\\0 & G + Yb & - Yb\\\\- G & - Yb & 2 G + Yb\\end{matrix}\\right]$"
      ],
      "text/plain": [
       "Matrix([\n",
       "[G + Ya,      0,       -G],\n",
       "[     0, G + Yb,      -Yb],\n",
       "[    -G,    -Yb, 2*G + Yb]])"
      ]
     },
     "execution_count": 49,
     "metadata": {},
     "output_type": "execute_result"
    }
   ],
   "source": [
    "\n",
    "matriz_usada=M.minor_submatrix(2,2)\n",
    "print(\"muestro la matriz a la cual le haria el determinante\")\n",
    "matriz_usada"
   ]
  },
  {
   "cell_type": "code",
   "execution_count": 50,
   "metadata": {},
   "outputs": [
    {
     "name": "stdout",
     "output_type": "stream",
     "text": [
      "Resultado\n"
     ]
    },
    {
     "data": {
      "text/latex": [
       "$\\displaystyle - G^{2} \\left(G + Yb\\right) - Yb^{2} \\left(G + Ya\\right) + \\left(G + Ya\\right) \\left(G + Yb\\right) \\left(2 G + Yb\\right)$"
      ],
      "text/plain": [
       "-G**2*(G + Yb) - Yb**2*(G + Ya) + (G + Ya)*(G + Yb)*(2*G + Yb)"
      ]
     },
     "execution_count": 50,
     "metadata": {},
     "output_type": "execute_result"
    }
   ],
   "source": [
    "Y33=M.cofactor(2,2)\n",
    "print(\"Resultado\")\n",
    "Y33\n"
   ]
  },
  {
   "cell_type": "code",
   "execution_count": 51,
   "metadata": {},
   "outputs": [
    {
     "data": {
      "text/latex": [
       "$\\displaystyle 2 G^{2} \\left(2 G + Ya + Yb\\right)$"
      ],
      "text/plain": [
       "2*G**2*(2*G + Ya + Yb)"
      ]
     },
     "execution_count": 51,
     "metadata": {},
     "output_type": "execute_result"
    }
   ],
   "source": [
    "# Agrego la condicion Ya*Yb = G**2\n",
    "\n",
    "Y33_sub = Y33s.subs(Ya*Yb, G**2)\n",
    "simplify(Y33_sub)"
   ]
  },
  {
   "cell_type": "code",
   "execution_count": 52,
   "metadata": {},
   "outputs": [
    {
     "name": "stdout",
     "output_type": "stream",
     "text": [
      "tache la columna 1 y la fila 1\n"
     ]
    },
    {
     "data": {
      "text/latex": [
       "$\\displaystyle \\left[\\begin{matrix}G + Yb & - G & - Yb\\\\- G & 2 G + Ya & - G\\\\- Yb & - G & 2 G + Yb\\end{matrix}\\right]$"
      ],
      "text/plain": [
       "Matrix([\n",
       "[G + Yb,       -G,      -Yb],\n",
       "[    -G, 2*G + Ya,       -G],\n",
       "[   -Yb,       -G, 2*G + Yb]])"
      ]
     },
     "execution_count": 52,
     "metadata": {},
     "output_type": "execute_result"
    }
   ],
   "source": [
    "#----------------Prosigo-------------------\n",
    "\n",
    "Y11=M.minor_submatrix(0,0)\n",
    "print(\"tache la columna 1 y la fila 1\")\n",
    "Y11"
   ]
  },
  {
   "cell_type": "code",
   "execution_count": 53,
   "metadata": {},
   "outputs": [
    {
     "name": "stdout",
     "output_type": "stream",
     "text": [
      "Tache la fila 2 y la columna 2\n"
     ]
    },
    {
     "data": {
      "text/latex": [
       "$\\displaystyle \\left[\\begin{matrix}2 G + Ya & - G\\\\- G & 2 G + Yb\\end{matrix}\\right]$"
      ],
      "text/plain": [
       "Matrix([\n",
       "[2*G + Ya,       -G],\n",
       "[      -G, 2*G + Yb]])"
      ]
     },
     "execution_count": 53,
     "metadata": {},
     "output_type": "execute_result"
    }
   ],
   "source": [
    "\n",
    "Y1212=Y11.minor_submatrix(0,0)\n",
    "print(\"Tache la fila 2 y la columna 2\")\n",
    "Y1212"
   ]
  },
  {
   "cell_type": "code",
   "execution_count": 54,
   "metadata": {},
   "outputs": [
    {
     "name": "stdout",
     "output_type": "stream",
     "text": [
      "Hago el det de Y1212\n"
     ]
    },
    {
     "data": {
      "text/latex": [
       "$\\displaystyle - G^{2} + \\left(2 G + Ya\\right) \\left(2 G + Yb\\right)$"
      ],
      "text/plain": [
       "-G**2 + (2*G + Ya)*(2*G + Yb)"
      ]
     },
     "execution_count": 54,
     "metadata": {},
     "output_type": "execute_result"
    }
   ],
   "source": [
    "print(\"Hago el det de Y1212\")\n",
    "deter_Y1212=Y1212.det()\n",
    "deter_Y1212"
   ]
  },
  {
   "cell_type": "code",
   "execution_count": 70,
   "metadata": {},
   "outputs": [
    {
     "data": {
      "text/latex": [
       "$\\displaystyle 3 G^{2} + 2 G Ya + 2 G Yb + Ya Yb$"
      ],
      "text/plain": [
       "3*G**2 + 2*G*Ya + 2*G*Yb + Ya*Yb"
      ]
     },
     "execution_count": 70,
     "metadata": {},
     "output_type": "execute_result"
    }
   ],
   "source": [
    "deter_Y1212sim = simplify(cancel(deter_Y1212))\n",
    "deter_Y1212sim\n"
   ]
  },
  {
   "cell_type": "code",
   "execution_count": 71,
   "metadata": {},
   "outputs": [
    {
     "data": {
      "text/latex": [
       "$\\displaystyle 4 G^{2} + 2 G Ya + 2 G Yb$"
      ],
      "text/plain": [
       "4*G**2 + 2*G*Ya + 2*G*Yb"
      ]
     },
     "execution_count": 71,
     "metadata": {},
     "output_type": "execute_result"
    }
   ],
   "source": [
    "deter_Y1212s = deter_Y1212sim.subs(Ya*Yb, G**2)\n",
    "deter_Y1212s"
   ]
  },
  {
   "cell_type": "code",
   "execution_count": 72,
   "metadata": {},
   "outputs": [
    {
     "data": {
      "text/latex": [
       "$\\displaystyle 2 G \\left(2 G + Ya + Yb\\right)$"
      ],
      "text/plain": [
       "2*G*(2*G + Ya + Yb)"
      ]
     },
     "execution_count": 72,
     "metadata": {},
     "output_type": "execute_result"
    }
   ],
   "source": [
    "deter_Y1212sim = simplify(deter_Y1212s)\n",
    "deter_Y1212sim"
   ]
  },
  {
   "cell_type": "code",
   "execution_count": 76,
   "metadata": {},
   "outputs": [
    {
     "name": "stdout",
     "output_type": "stream",
     "text": [
      "Imprimo Zin:\n"
     ]
    },
    {
     "data": {
      "text/latex": [
       "$\\displaystyle \\frac{1}{G}$"
      ],
      "text/plain": [
       "1/G"
      ]
     },
     "execution_count": 76,
     "metadata": {},
     "output_type": "execute_result"
    }
   ],
   "source": [
    "Zin_eq=deter_Y1212sim/Y33_sub\n",
    "Zin_simple=simplify(Zin_eq)\n",
    "print(\"Imprimo Zin:\")\n",
    "Zin_simple"
   ]
  },
  {
   "cell_type": "code",
   "execution_count": 100,
   "metadata": {},
   "outputs": [
    {
     "name": "stdout",
     "output_type": "stream",
     "text": [
      "tache la columna 1 y la fila 3\n"
     ]
    },
    {
     "data": {
      "text/latex": [
       "$\\displaystyle \\left[\\begin{matrix}G + Ya & 0 & - G\\\\0 & G + Yb & - Yb\\\\- G & - Yb & 2 G + Yb\\end{matrix}\\right]$"
      ],
      "text/plain": [
       "Matrix([\n",
       "[G + Ya,      0,       -G],\n",
       "[     0, G + Yb,      -Yb],\n",
       "[    -G,    -Yb, 2*G + Yb]])"
      ]
     },
     "execution_count": 100,
     "metadata": {},
     "output_type": "execute_result"
    }
   ],
   "source": [
    "\n",
    "Y13=M.minor_submatrix(2,2)\n",
    "print(\"tache la columna 1 y la fila 3\")\n",
    "Y13"
   ]
  },
  {
   "cell_type": "code",
   "execution_count": 103,
   "metadata": {},
   "outputs": [
    {
     "name": "stdout",
     "output_type": "stream",
     "text": [
      "Muestro Y1212\n"
     ]
    },
    {
     "data": {
      "text/latex": [
       "$\\displaystyle \\left[\\begin{matrix}G + Ya & - G\\\\- G & 2 G + Yb\\end{matrix}\\right]$"
      ],
      "text/plain": [
       "Matrix([\n",
       "[G + Ya,       -G],\n",
       "[    -G, 2*G + Yb]])"
      ]
     },
     "execution_count": 103,
     "metadata": {},
     "output_type": "execute_result"
    }
   ],
   "source": [
    "\n",
    "Y1212=Y13.minor_submatrix(1,1)\n",
    "print(\"Muestro Y1212\")\n",
    "Y1212"
   ]
  },
  {
   "cell_type": "code",
   "execution_count": 109,
   "metadata": {},
   "outputs": [
    {
     "data": {
      "text/latex": [
       "$\\displaystyle - G^{2} + \\left(G + Ya\\right) \\left(2 G + Yb\\right)$"
      ],
      "text/plain": [
       "-G**2 + (G + Ya)*(2*G + Yb)"
      ]
     },
     "execution_count": 109,
     "metadata": {},
     "output_type": "execute_result"
    }
   ],
   "source": [
    "det1212=Y1212.det()\n",
    "det1212\n"
   ]
  },
  {
   "cell_type": "code",
   "execution_count": 120,
   "metadata": {},
   "outputs": [
    {
     "data": {
      "text/latex": [
       "$\\displaystyle G^{2} + 2 G Ya + G Yb + Ya Yb$"
      ],
      "text/plain": [
       "G**2 + 2*G*Ya + G*Yb + Ya*Yb"
      ]
     },
     "execution_count": 120,
     "metadata": {},
     "output_type": "execute_result"
    }
   ],
   "source": [
    "det1212sim = cancel(det1212)\n",
    "det1212sim"
   ]
  },
  {
   "cell_type": "code",
   "execution_count": 121,
   "metadata": {},
   "outputs": [
    {
     "data": {
      "text/latex": [
       "$\\displaystyle 2 G^{2} + 2 G Ya + G Yb$"
      ],
      "text/plain": [
       "2*G**2 + 2*G*Ya + G*Yb"
      ]
     },
     "execution_count": 121,
     "metadata": {},
     "output_type": "execute_result"
    }
   ],
   "source": [
    "dey1212re = det1212sim.subs(Ya*Yb, G**2)\n",
    "dey1212re"
   ]
  },
  {
   "cell_type": "code",
   "execution_count": 123,
   "metadata": {},
   "outputs": [
    {
     "data": {
      "text/latex": [
       "$\\displaystyle G \\left(2 G + 2 Ya + Yb\\right)$"
      ],
      "text/plain": [
       "G*(2*G + 2*Ya + Yb)"
      ]
     },
     "execution_count": 123,
     "metadata": {},
     "output_type": "execute_result"
    }
   ],
   "source": [
    "det1212_final = simplify (dey1212re)\n",
    "det1212_final"
   ]
  },
  {
   "cell_type": "code",
   "execution_count": 110,
   "metadata": {},
   "outputs": [
    {
     "name": "stdout",
     "output_type": "stream",
     "text": [
      "Muestro Y1234\n"
     ]
    },
    {
     "data": {
      "text/latex": [
       "$\\displaystyle \\left[\\begin{matrix}0 & - G & - Yb\\\\- Ya & 2 G + Ya & - G\\\\- G & - G & 2 G + Yb\\end{matrix}\\right]$"
      ],
      "text/plain": [
       "Matrix([\n",
       "[  0,       -G,      -Yb],\n",
       "[-Ya, 2*G + Ya,       -G],\n",
       "[ -G,       -G, 2*G + Yb]])"
      ]
     },
     "execution_count": 110,
     "metadata": {},
     "output_type": "execute_result"
    }
   ],
   "source": [
    "Y32=M.minor_submatrix(0,1)\n",
    "print(\"Muestro Y1234\")\n",
    "Y32"
   ]
  },
  {
   "cell_type": "code",
   "execution_count": 111,
   "metadata": {},
   "outputs": [
    {
     "name": "stdout",
     "output_type": "stream",
     "text": [
      "Muestro Y3232\n"
     ]
    },
    {
     "data": {
      "text/latex": [
       "$\\displaystyle \\left[\\begin{matrix}- Ya & - G\\\\- G & 2 G + Yb\\end{matrix}\\right]$"
      ],
      "text/plain": [
       "Matrix([\n",
       "[-Ya,       -G],\n",
       "[ -G, 2*G + Yb]])"
      ]
     },
     "execution_count": 111,
     "metadata": {},
     "output_type": "execute_result"
    }
   ],
   "source": [
    "Y3232= Y32.minor_submatrix(0,1)\n",
    "print(\"Muestro Y3232\")\n",
    "Y3232\n"
   ]
  },
  {
   "cell_type": "code",
   "execution_count": 112,
   "metadata": {},
   "outputs": [
    {
     "data": {
      "text/latex": [
       "$\\displaystyle - G^{2} - Ya \\left(2 G + Yb\\right)$"
      ],
      "text/plain": [
       "-G**2 - Ya*(2*G + Yb)"
      ]
     },
     "execution_count": 112,
     "metadata": {},
     "output_type": "execute_result"
    }
   ],
   "source": [
    "det3232=Y3232.det()\n",
    "det3232"
   ]
  },
  {
   "cell_type": "code",
   "execution_count": 127,
   "metadata": {},
   "outputs": [
    {
     "data": {
      "text/latex": [
       "$\\displaystyle - G^{2} - 2 G Ya - Ya Yb$"
      ],
      "text/plain": [
       "-G**2 - 2*G*Ya - Ya*Yb"
      ]
     },
     "execution_count": 127,
     "metadata": {},
     "output_type": "execute_result"
    }
   ],
   "source": [
    "det3232can = cancel(det3232)\n",
    "det3232can"
   ]
  },
  {
   "cell_type": "code",
   "execution_count": 130,
   "metadata": {},
   "outputs": [
    {
     "data": {
      "text/latex": [
       "$\\displaystyle - 2 G^{2} - 2 G Ya$"
      ],
      "text/plain": [
       "-2*G**2 - 2*G*Ya"
      ]
     },
     "execution_count": 130,
     "metadata": {},
     "output_type": "execute_result"
    }
   ],
   "source": [
    "det3232re = det3232can.subs(Ya*Yb, G**2)\n",
    "det3232re"
   ]
  },
  {
   "cell_type": "code",
   "execution_count": 131,
   "metadata": {},
   "outputs": [
    {
     "data": {
      "text/latex": [
       "$\\displaystyle - 2 G \\left(G + Ya\\right)$"
      ],
      "text/plain": [
       "-2*G*(G + Ya)"
      ]
     },
     "execution_count": 131,
     "metadata": {},
     "output_type": "execute_result"
    }
   ],
   "source": [
    "det3232final = simplify(det3232re)\n",
    "det3232final"
   ]
  },
  {
   "cell_type": "code",
   "execution_count": 137,
   "metadata": {},
   "outputs": [
    {
     "name": "stdout",
     "output_type": "stream",
     "text": [
      "Resultado transferencia\n"
     ]
    },
    {
     "data": {
      "text/latex": [
       "$\\displaystyle - \\frac{2 G + 2 Ya + Yb}{2 \\left(G + Ya\\right)}$"
      ],
      "text/plain": [
       "-(2*G + 2*Ya + Yb)/(2*(G + Ya))"
      ]
     },
     "execution_count": 137,
     "metadata": {},
     "output_type": "execute_result"
    }
   ],
   "source": [
    "print(\"Resultado transferencia\")\n",
    "\n",
    "Transferencia_re = det1212_final / det3232final\n",
    "Transferencia =(Transferencia_re)\n",
    "Transferencia"
   ]
  },
  {
   "cell_type": "code",
   "execution_count": null,
   "metadata": {},
   "outputs": [],
   "source": []
  }
 ],
 "metadata": {
  "kernelspec": {
   "display_name": "Python 3",
   "language": "python",
   "name": "python3"
  },
  "language_info": {
   "codemirror_mode": {
    "name": "ipython",
    "version": 3
   },
   "file_extension": ".py",
   "mimetype": "text/x-python",
   "name": "python",
   "nbconvert_exporter": "python",
   "pygments_lexer": "ipython3",
   "version": "3.7.6"
  }
 },
 "nbformat": 4,
 "nbformat_minor": 4
}
