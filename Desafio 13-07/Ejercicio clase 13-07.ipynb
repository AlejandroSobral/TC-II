{
 "cells": [
  {
   "cell_type": "markdown",
   "metadata": {},
   "source": [
    "### UTN-FRBA - Teoría de Circuitos 2 - Alejandro Sobral\n",
    "### Ejercicio clase 13-07\n",
    "\n",
    "<img src=\"./1.png\" align=\"center\" width=\"100%\" />\n",
    "<img src=\"./2.PNG\" align=\"center\" width=\"100%\" />\n",
    "<img src=\"./3.png\" align=\"center\" width=\"100%\" />"
   ]
  },
  {
   "cell_type": "code",
   "execution_count": null,
   "metadata": {},
   "outputs": [],
   "source": []
  }
 ],
 "metadata": {
  "kernelspec": {
   "display_name": "Python 3",
   "language": "python",
   "name": "python3"
  },
  "language_info": {
   "codemirror_mode": {
    "name": "ipython",
    "version": 3
   },
   "file_extension": ".py",
   "mimetype": "text/x-python",
   "name": "python",
   "nbconvert_exporter": "python",
   "pygments_lexer": "ipython3",
   "version": "3.7.6"
  }
 },
 "nbformat": 4,
 "nbformat_minor": 4
}
